{
 "cells": [
  {
   "cell_type": "markdown",
   "metadata": {},
   "source": [
    "# `eo-learn` basics\n",
    "\n",
    "`eo-learn` is divided into several subpackages, as determined by their functionality and external package dependencies:\n",
    "\n",
    "|         Subpackage        |                                                Description                                                |\n",
    "|:--------------------------|:----------------------------------------------------------------------------------------------------------|\n",
    "| `eo-learn-core`           | Implements basic building blocks and commonly used features.                                              |\n",
    "| `eo-learn-coregistration` | The subpackage that deals with image co-registration.                                                     |\n",
    "| `eo-learn-features`       | A collection of utilities for extracting data properties and feature manipulation.                        |\n",
    "| `eo-learn-geometry`       | Used for geometric transformation and conversion between vector and raster data.                          |\n",
    "| `eo-learn-io`             | Input/output subpackage for obtaining data from Sentinel Hub services or saving and loading data locally. |\n",
    "| `eo-learn-mask`           | Used for masking data and producing cloud masks.                                                          |\n",
    "| `eo-learn-ml-tools`       | Various tools that can be used before or after the machine learning process.                              |\n",
    "| `eo-learn-visualization`  | Visualisation tools for core elements of `eo-learn`.                                                      |\n",
    "\n",
    "The building blocks that `eo-learn-core` implements are:\n",
    "- `EOPatch`\n",
    "- `EOTask`\n",
    "- `EOWorkflow`\n",
    "- `EOExecutor`\n",
    "\n",
    "With these components, processing satellite data essentially turns into defining the appropriate sequence of operations to be performed on a particular set. Modular design also makes it easier to share and reuse specific tasks in various workflows."
   ]
  },
  {
   "cell_type": "markdown",
   "metadata": {},
   "source": [
    "## 1. EOPatch\n",
    "\n",
    "The most basic object in the package is a data container, called an `EOPatch`. It stores different types of data associated with a single geographical location, typically defined by a bounding box in a specific coordinate reference system.\n",
    "\n",
    "<img src=\"images/eopatch.png\">\n",
    "\n",
    "Although there is no specified limit to the amount of data that a single `EOPatch` can store, it can only be processed if the operations do not exceed the size of your RAM. Therefore, it is customary to split larger areas into more manageable \"patches\".\n",
    "\n",
    "Within an `EOPatch`, the data is split into categories, called \"feature types\", according to the following properties:\n",
    "\n",
    "| `FeatureType` | Type of data | Time component |  Spatial component | Type of values | Python object | Shape |\n",
    "| :-- | :-- | :-- | :-- | :-- | :-- | :-- |\n",
    "| DATA | raster | <span style=\"color:green\">yes</span> | <span style=\"color:green\">yes</span> | float | `numpy.ndarray` | `t x n x m x d` |\n",
    "| MASK | raster | <span style=\"color:green\">yes</span> | <span style=\"color:green\">yes</span> | integer | `numpy.ndarray` | `t x n x m x d` |\n",
    "| SCALAR | raster | <span style=\"color:green\">yes</span> | <span style=\"color:red\">no</span> | float | `numpy.ndarray` | `t x d` |\n",
    "| LABEL | raster | <span style=\"color:green\">yes</span> | <span style=\"color:red\">no</span> | integer | `numpy.ndarray` | `t x d` |\n",
    "| DATA_TIMELESS | raster | <span style=\"color:red\">no</span> | <span style=\"color:green\">yes</span> | float | `numpy.ndarray` | `n x m x d` |\n",
    "| MASK_TIMELESS | raster | <span style=\"color:red\">no</span> | <span style=\"color:green\">yes</span> | integer | `numpy.ndarray` | `n x m x d` |\n",
    "| SCALAR_TIMELESS | raster | <span style=\"color:red\">no</span> | <span style=\"color:red\">no</span> | float | `numpy.ndarray` | `d` |\n",
    "| LABEL_TIMELESS | raster | <span style=\"color:red\">no</span> | <span style=\"color:red\">no</span> | integer | `numpy.ndarray` | `d` |\n",
    "| VECTOR | vector | <span style=\"color:green\">yes</span> | <span style=\"color:green\">yes</span> | / | `geopandas.GeoDataFrame` | Required columns `geometry` and `TIMESTAMP` |\n",
    "| VECTOR_TIMELESS | vector | <span style=\"color:red\">no</span> | <span style=\"color:green\">yes</span> | / | `geopandas.GeoDataFrame` | Required column `geometry` |\n",
    "| META_INFO | anything | <span style=\"color:red\">no</span> | <span style=\"color:red\">no</span> | anything | anything | anything |\n",
    "| TIMESTAMP | timestamps | <span style=\"color:green\">yes</span> | <span style=\"color:red\">no</span> | datetime | `list(datetime.datetime)` | `t` |\n",
    "| BBOX | bounding box and CRS | <span style=\"color:red\">no</span> | <span style=\"color:green\">yes</span> | coordinates | `sentinelhub.BBox` | / |\n",
    "\n",
    "Here, `t` represents the temporal dimension, `n` and `m` are spatial dimensions (height and width, respectively), and `d` is an additional component for data with multiple channels.\n",
    "\n",
    "Note that `numpy.ndarray` objects are consistent: the spatial dimensions are the same across all time frames and channels, but we said earlier that different spectral bands have different spatial resolutions. Ordinarily, the lower-resolution bands are interpolated (or, less frequently, super-resolved) to match the highest.\n",
    "\n",
    "We'll start by loading a locally stored `EOPatch` and displaying its contents (i.e. features):"
   ]
  },
  {
   "cell_type": "code",
   "execution_count": 1,
   "metadata": {
    "scrolled": false
   },
   "outputs": [
    {
     "name": "stderr",
     "output_type": "stream",
     "text": [
      "C:\\Users\\jerne\\Anaconda3\\envs\\eow\\lib\\site-packages\\pyproj\\crs\\crs.py:280: FutureWarning: '+init=<authority>:<code>' syntax is deprecated. '<authority>:<code>' is the preferred initialization method. When making the change, be mindful of axis order changes: https://pyproj4.github.io/pyproj/stable/gotchas.html#axis-order-changes-in-proj-6\n",
      "  projstring = _prepare_from_string(projparams)\n"
     ]
    },
    {
     "data": {
      "text/plain": [
       "EOPatch(\n",
       "  data: {\n",
       "    BANDS-S2-L1C: numpy.ndarray(shape=(68, 101, 100, 13), dtype=float32)\n",
       "    CLOUD_PROBABILITY: numpy.ndarray(shape=(68, 101, 100, 1), dtype=float32)\n",
       "    NDVI: numpy.ndarray(shape=(68, 101, 100, 1), dtype=float32)\n",
       "  }\n",
       "  mask: {\n",
       "    CLOUD_MASK: numpy.ndarray(shape=(68, 101, 100, 1), dtype=uint8)\n",
       "    IS_DATA: numpy.ndarray(shape=(68, 101, 100, 1), dtype=uint8)\n",
       "    IS_VALID: numpy.ndarray(shape=(68, 101, 100, 1), dtype=bool)\n",
       "  }\n",
       "  scalar: {\n",
       "    CLOUD_COVERAGE: numpy.ndarray(shape=(68, 1), dtype=float16)\n",
       "  }\n",
       "  label: {\n",
       "    IS_CLOUDLESS: numpy.ndarray(shape=(68, 1), dtype=bool)\n",
       "  }\n",
       "  vector: {\n",
       "    CLOUD_MASK_VECTOR: geopandas.GeoDataFrame(columns=['TIMESTAMP', 'VALUE', 'geometry'], length=55, crs=EPSG:32633)\n",
       "  }\n",
       "  data_timeless: {\n",
       "    MAX_NDVI: numpy.ndarray(shape=(101, 100, 1), dtype=float64)\n",
       "  }\n",
       "  mask_timeless: {\n",
       "    LULC: numpy.ndarray(shape=(101, 100, 1), dtype=uint16)\n",
       "    VALID_COUNT: numpy.ndarray(shape=(101, 100, 1), dtype=int64)\n",
       "  }\n",
       "  scalar_timeless: {\n",
       "    LULC_PERCENTAGE: numpy.ndarray(shape=(6,), dtype=float64)\n",
       "  }\n",
       "  label_timeless: {\n",
       "    LULC_COUNTS: numpy.ndarray(shape=(6,), dtype=int32)\n",
       "  }\n",
       "  vector_timeless: {\n",
       "    LULC: geopandas.GeoDataFrame(columns=['RABA_ID', 'AREA', 'DATE', 'LULC_ID', 'LULC_NAME', 'geometry'], length=88, crs=EPSG:32633)\n",
       "  }\n",
       "  meta_info: {\n",
       "    maxcc: 0.8\n",
       "    service_type: 'wcs'\n",
       "    size_x: '10m'\n",
       "    size_y: '10m'\n",
       "    time_difference: datetime.timedelta(days=-1, seconds=86399)\n",
       "    time_interval: [datetime.datetime(2015, 1, 1, 0, 0), datetime.datetime(2018, 1, 1, 0, 0)]\n",
       "  }\n",
       "  bbox: BBox(((465181.0522318204, 5079244.8912012065), (466180.53145382757, 5080254.63349641)), crs=CRS('32633'))\n",
       "  timestamp: [datetime.datetime(2015, 7, 11, 10, 0, 8), ..., datetime.datetime(2017, 12, 22, 10, 4, 15)], length=68\n",
       ")"
      ]
     },
     "execution_count": 1,
     "metadata": {},
     "output_type": "execute_result"
    }
   ],
   "source": [
    "import os\n",
    "from eolearn.core import EOPatch\n",
    "\n",
    "DATA_FOLDER = 'data'\n",
    "PATCH_NAME = 'tutorial_eopatch'\n",
    "\n",
    "eopatch = EOPatch.load(os.path.join(DATA_FOLDER, PATCH_NAME))\n",
    "\n",
    "eopatch"
   ]
  },
  {
   "cell_type": "code",
   "execution_count": null,
   "metadata": {},
   "outputs": [],
   "source": [
    "# Note: The data does not have to be loaded right away. Try using the keyword argument \"lazy_loading=True\"."
   ]
  },
  {
   "cell_type": "markdown",
   "metadata": {},
   "source": [
    "There are multiple ways of referencing a feature:"
   ]
  },
  {
   "cell_type": "code",
   "execution_count": 2,
   "metadata": {},
   "outputs": [
    {
     "data": {
      "text/plain": [
       "(numpy.ndarray, dtype('float32'), (68, 101, 100, 13))"
      ]
     },
     "execution_count": 2,
     "metadata": {},
     "output_type": "execute_result"
    }
   ],
   "source": [
    "from eolearn.core import FeatureType\n",
    "\n",
    "# This is probably the form you will use most\n",
    "bands = eopatch.data['BANDS-S2-L1C']\n",
    "# or\n",
    "bands = eopatch['data']['BANDS-S2-L1C']\n",
    "# or\n",
    "bands = eopatch[FeatureType.DATA]['BANDS-S2-L1C']\n",
    "# or\n",
    "bands = eopatch[(FeatureType.DATA, 'BANDS-S2-L1C')]\n",
    "# or\n",
    "bands = eopatch.get_feature(FeatureType.DATA, 'BANDS-S2-L1C')\n",
    "\n",
    "type(bands), bands.dtype, bands.shape"
   ]
  },
  {
   "cell_type": "markdown",
   "metadata": {},
   "source": [
    "Vector features are handled by `geopandas`:"
   ]
  },
  {
   "cell_type": "code",
   "execution_count": 3,
   "metadata": {
    "scrolled": true
   },
   "outputs": [
    {
     "data": {
      "text/html": [
       "<div>\n",
       "<style scoped>\n",
       "    .dataframe tbody tr th:only-of-type {\n",
       "        vertical-align: middle;\n",
       "    }\n",
       "\n",
       "    .dataframe tbody tr th {\n",
       "        vertical-align: top;\n",
       "    }\n",
       "\n",
       "    .dataframe thead th {\n",
       "        text-align: right;\n",
       "    }\n",
       "</style>\n",
       "<table border=\"1\" class=\"dataframe\">\n",
       "  <thead>\n",
       "    <tr style=\"text-align: right;\">\n",
       "      <th></th>\n",
       "      <th>TIMESTAMP</th>\n",
       "      <th>VALUE</th>\n",
       "      <th>geometry</th>\n",
       "    </tr>\n",
       "  </thead>\n",
       "  <tbody>\n",
       "    <tr>\n",
       "      <th>0</th>\n",
       "      <td>2015-07-31 10:00:09</td>\n",
       "      <td>1.0</td>\n",
       "      <td>POLYGON ((465181.0522318204 5080254.63349641, ...</td>\n",
       "    </tr>\n",
       "    <tr>\n",
       "      <th>1</th>\n",
       "      <td>2015-08-20 10:07:28</td>\n",
       "      <td>1.0</td>\n",
       "      <td>POLYGON ((465181.0522318204 5080254.63349641, ...</td>\n",
       "    </tr>\n",
       "    <tr>\n",
       "      <th>2</th>\n",
       "      <td>2015-09-19 10:05:43</td>\n",
       "      <td>1.0</td>\n",
       "      <td>POLYGON ((465181.0522318204 5080254.63349641, ...</td>\n",
       "    </tr>\n",
       "    <tr>\n",
       "      <th>3</th>\n",
       "      <td>2015-09-29 10:06:33</td>\n",
       "      <td>1.0</td>\n",
       "      <td>POLYGON ((465181.0522318204 5080254.63349641, ...</td>\n",
       "    </tr>\n",
       "    <tr>\n",
       "      <th>4</th>\n",
       "      <td>2015-12-08 10:04:09</td>\n",
       "      <td>1.0</td>\n",
       "      <td>POLYGON ((465181.0522318204 5080254.63349641, ...</td>\n",
       "    </tr>\n",
       "    <tr>\n",
       "      <th>5</th>\n",
       "      <td>2015-12-08 10:11:25</td>\n",
       "      <td>1.0</td>\n",
       "      <td>POLYGON ((465181.0522318204 5080254.63349641, ...</td>\n",
       "    </tr>\n",
       "    <tr>\n",
       "      <th>6</th>\n",
       "      <td>2016-02-06 10:02:03</td>\n",
       "      <td>1.0</td>\n",
       "      <td>POLYGON ((465630.8178817236 5080064.68197553, ...</td>\n",
       "    </tr>\n",
       "    <tr>\n",
       "      <th>7</th>\n",
       "      <td>2016-02-06 10:02:03</td>\n",
       "      <td>1.0</td>\n",
       "      <td>POLYGON ((465520.8751673028 5079654.786588368,...</td>\n",
       "    </tr>\n",
       "    <tr>\n",
       "      <th>8</th>\n",
       "      <td>2016-02-06 10:02:03</td>\n",
       "      <td>1.0</td>\n",
       "      <td>POLYGON ((465990.6304016462 5079594.801897564,...</td>\n",
       "    </tr>\n",
       "    <tr>\n",
       "      <th>9</th>\n",
       "      <td>2016-02-06 10:02:03</td>\n",
       "      <td>1.0</td>\n",
       "      <td>POLYGON ((465181.0522318204 5079444.840170554,...</td>\n",
       "    </tr>\n",
       "    <tr>\n",
       "      <th>10</th>\n",
       "      <td>2016-03-17 10:06:59</td>\n",
       "      <td>1.0</td>\n",
       "      <td>POLYGON ((465181.0522318204 5080254.63349641, ...</td>\n",
       "    </tr>\n",
       "    <tr>\n",
       "      <th>11</th>\n",
       "      <td>2016-03-27 10:00:12</td>\n",
       "      <td>1.0</td>\n",
       "      <td>POLYGON ((465181.0522318204 5080254.63349641, ...</td>\n",
       "    </tr>\n",
       "    <tr>\n",
       "      <th>12</th>\n",
       "      <td>2016-04-26 10:01:28</td>\n",
       "      <td>1.0</td>\n",
       "      <td>POLYGON ((465181.0522318204 5080254.63349641, ...</td>\n",
       "    </tr>\n",
       "    <tr>\n",
       "      <th>13</th>\n",
       "      <td>2016-05-06 10:05:27</td>\n",
       "      <td>1.0</td>\n",
       "      <td>POLYGON ((465890.6824794455 5080254.63349641, ...</td>\n",
       "    </tr>\n",
       "    <tr>\n",
       "      <th>14</th>\n",
       "      <td>2016-05-16 10:06:47</td>\n",
       "      <td>1.0</td>\n",
       "      <td>POLYGON ((465890.6824794455 5080174.653908671,...</td>\n",
       "    </tr>\n",
       "    <tr>\n",
       "      <th>15</th>\n",
       "      <td>2016-05-16 10:06:47</td>\n",
       "      <td>1.0</td>\n",
       "      <td>POLYGON ((465320.9793229014 5080064.68197553, ...</td>\n",
       "    </tr>\n",
       "    <tr>\n",
       "      <th>16</th>\n",
       "      <td>2016-05-16 10:06:47</td>\n",
       "      <td>1.0</td>\n",
       "      <td>POLYGON ((465840.7085183451 5079704.773830705,...</td>\n",
       "    </tr>\n",
       "    <tr>\n",
       "      <th>17</th>\n",
       "      <td>2016-06-05 10:06:50</td>\n",
       "      <td>1.0</td>\n",
       "      <td>POLYGON ((466040.6043627466 5080254.63349641, ...</td>\n",
       "    </tr>\n",
       "    <tr>\n",
       "      <th>18</th>\n",
       "      <td>2016-06-05 10:06:50</td>\n",
       "      <td>1.0</td>\n",
       "      <td>POLYGON ((465211.0366084806 5080254.63349641, ...</td>\n",
       "    </tr>\n",
       "    <tr>\n",
       "      <th>19</th>\n",
       "      <td>2016-06-15 10:06:08</td>\n",
       "      <td>1.0</td>\n",
       "      <td>POLYGON ((465211.0366084806 5080254.63349641, ...</td>\n",
       "    </tr>\n",
       "    <tr>\n",
       "      <th>20</th>\n",
       "      <td>2016-06-25 10:06:17</td>\n",
       "      <td>1.0</td>\n",
       "      <td>POLYGON ((465181.0522318204 5080064.68197553, ...</td>\n",
       "    </tr>\n",
       "    <tr>\n",
       "      <th>21</th>\n",
       "      <td>2016-07-25 10:06:02</td>\n",
       "      <td>1.0</td>\n",
       "      <td>POLYGON ((465181.0522318204 5080254.63349641, ...</td>\n",
       "    </tr>\n",
       "    <tr>\n",
       "      <th>22</th>\n",
       "      <td>2016-08-24 10:06:07</td>\n",
       "      <td>1.0</td>\n",
       "      <td>POLYGON ((466100.573116067 5080254.63349641, 4...</td>\n",
       "    </tr>\n",
       "    <tr>\n",
       "      <th>23</th>\n",
       "      <td>2016-08-24 10:06:07</td>\n",
       "      <td>1.0</td>\n",
       "      <td>POLYGON ((465181.0522318204 5080254.63349641, ...</td>\n",
       "    </tr>\n",
       "    <tr>\n",
       "      <th>24</th>\n",
       "      <td>2016-08-24 10:06:07</td>\n",
       "      <td>1.0</td>\n",
       "      <td>POLYGON ((465780.7397650247 5079544.814655228,...</td>\n",
       "    </tr>\n",
       "    <tr>\n",
       "      <th>25</th>\n",
       "      <td>2016-09-13 10:05:04</td>\n",
       "      <td>1.0</td>\n",
       "      <td>POLYGON ((465420.9272451021 5080254.63349641, ...</td>\n",
       "    </tr>\n",
       "    <tr>\n",
       "      <th>26</th>\n",
       "      <td>2016-10-23 10:00:47</td>\n",
       "      <td>1.0</td>\n",
       "      <td>POLYGON ((465181.0522318204 5080254.63349641, ...</td>\n",
       "    </tr>\n",
       "    <tr>\n",
       "      <th>27</th>\n",
       "      <td>2016-12-22 10:06:06</td>\n",
       "      <td>1.0</td>\n",
       "      <td>POLYGON ((465181.0522318204 5080254.63349641, ...</td>\n",
       "    </tr>\n",
       "    <tr>\n",
       "      <th>28</th>\n",
       "      <td>2017-02-20 10:06:35</td>\n",
       "      <td>1.0</td>\n",
       "      <td>POLYGON ((465780.7397650247 5079964.707490857,...</td>\n",
       "    </tr>\n",
       "    <tr>\n",
       "      <th>29</th>\n",
       "      <td>2017-02-20 10:06:35</td>\n",
       "      <td>1.0</td>\n",
       "      <td>POLYGON ((465181.0522318204 5079544.814655228,...</td>\n",
       "    </tr>\n",
       "    <tr>\n",
       "      <th>30</th>\n",
       "      <td>2017-02-20 10:06:35</td>\n",
       "      <td>1.0</td>\n",
       "      <td>POLYGON ((465680.791842824 5079444.840170554, ...</td>\n",
       "    </tr>\n",
       "    <tr>\n",
       "      <th>31</th>\n",
       "      <td>2017-02-20 10:06:35</td>\n",
       "      <td>1.0</td>\n",
       "      <td>POLYGON ((465520.8751673028 5079334.868237413,...</td>\n",
       "    </tr>\n",
       "    <tr>\n",
       "      <th>32</th>\n",
       "      <td>2017-03-02 10:00:20</td>\n",
       "      <td>1.0</td>\n",
       "      <td>POLYGON ((465181.0522318204 5080254.63349641, ...</td>\n",
       "    </tr>\n",
       "    <tr>\n",
       "      <th>33</th>\n",
       "      <td>2017-03-12 10:07:06</td>\n",
       "      <td>1.0</td>\n",
       "      <td>POLYGON ((465181.0522318204 5080254.63349641, ...</td>\n",
       "    </tr>\n",
       "    <tr>\n",
       "      <th>34</th>\n",
       "      <td>2017-04-11 10:00:25</td>\n",
       "      <td>1.0</td>\n",
       "      <td>POLYGON ((465840.7085183451 5080254.63349641, ...</td>\n",
       "    </tr>\n",
       "    <tr>\n",
       "      <th>35</th>\n",
       "      <td>2017-05-01 10:00:29</td>\n",
       "      <td>1.0</td>\n",
       "      <td>POLYGON ((465181.0522318204 5080254.63349641, ...</td>\n",
       "    </tr>\n",
       "    <tr>\n",
       "      <th>36</th>\n",
       "      <td>2017-05-31 10:05:36</td>\n",
       "      <td>1.0</td>\n",
       "      <td>POLYGON ((465181.0522318204 5080254.63349641, ...</td>\n",
       "    </tr>\n",
       "    <tr>\n",
       "      <th>37</th>\n",
       "      <td>2017-06-10 10:00:27</td>\n",
       "      <td>1.0</td>\n",
       "      <td>POLYGON ((465181.0522318204 5080254.63349641, ...</td>\n",
       "    </tr>\n",
       "    <tr>\n",
       "      <th>38</th>\n",
       "      <td>2017-07-15 10:00:26</td>\n",
       "      <td>1.0</td>\n",
       "      <td>POLYGON ((466150.5470771674 5080174.653908671,...</td>\n",
       "    </tr>\n",
       "    <tr>\n",
       "      <th>39</th>\n",
       "      <td>2017-07-15 10:00:26</td>\n",
       "      <td>1.0</td>\n",
       "      <td>POLYGON ((465580.8439206233 5080224.641151008,...</td>\n",
       "    </tr>\n",
       "    <tr>\n",
       "      <th>40</th>\n",
       "      <td>2017-07-15 10:00:26</td>\n",
       "      <td>1.0</td>\n",
       "      <td>POLYGON ((466100.573116067 5079704.773830705, ...</td>\n",
       "    </tr>\n",
       "    <tr>\n",
       "      <th>41</th>\n",
       "      <td>2017-07-25 10:05:36</td>\n",
       "      <td>1.0</td>\n",
       "      <td>POLYGON ((465680.791842824 5080254.63349641, 4...</td>\n",
       "    </tr>\n",
       "    <tr>\n",
       "      <th>42</th>\n",
       "      <td>2017-07-30 10:05:35</td>\n",
       "      <td>1.0</td>\n",
       "      <td>POLYGON ((465181.0522318204 5080254.63349641, ...</td>\n",
       "    </tr>\n",
       "    <tr>\n",
       "      <th>43</th>\n",
       "      <td>2017-07-30 10:05:35</td>\n",
       "      <td>1.0</td>\n",
       "      <td>POLYGON ((466040.6043627466 5080014.694733193,...</td>\n",
       "    </tr>\n",
       "    <tr>\n",
       "      <th>44</th>\n",
       "      <td>2017-08-09 10:00:28</td>\n",
       "      <td>1.0</td>\n",
       "      <td>POLYGON ((465181.0522318204 5080254.63349641, ...</td>\n",
       "    </tr>\n",
       "    <tr>\n",
       "      <th>45</th>\n",
       "      <td>2017-09-08 10:06:55</td>\n",
       "      <td>1.0</td>\n",
       "      <td>POLYGON ((465181.0522318204 5080254.63349641, ...</td>\n",
       "    </tr>\n",
       "    <tr>\n",
       "      <th>46</th>\n",
       "      <td>2017-09-18 10:00:23</td>\n",
       "      <td>1.0</td>\n",
       "      <td>POLYGON ((465181.0522318204 5080254.63349641, ...</td>\n",
       "    </tr>\n",
       "    <tr>\n",
       "      <th>47</th>\n",
       "      <td>2017-09-23 10:05:02</td>\n",
       "      <td>1.0</td>\n",
       "      <td>POLYGON ((465261.010569581 5080014.694733193, ...</td>\n",
       "    </tr>\n",
       "    <tr>\n",
       "      <th>48</th>\n",
       "      <td>2017-09-23 10:05:02</td>\n",
       "      <td>1.0</td>\n",
       "      <td>POLYGON ((465580.8439206233 5080254.63349641, ...</td>\n",
       "    </tr>\n",
       "    <tr>\n",
       "      <th>49</th>\n",
       "      <td>2017-09-28 10:06:17</td>\n",
       "      <td>1.0</td>\n",
       "      <td>POLYGON ((465370.9532840018 5079544.814655228,...</td>\n",
       "    </tr>\n",
       "    <tr>\n",
       "      <th>50</th>\n",
       "      <td>2017-11-12 10:02:29</td>\n",
       "      <td>1.0</td>\n",
       "      <td>POLYGON ((465181.0522318204 5080254.63349641, ...</td>\n",
       "    </tr>\n",
       "    <tr>\n",
       "      <th>51</th>\n",
       "      <td>2017-11-17 10:03:38</td>\n",
       "      <td>1.0</td>\n",
       "      <td>POLYGON ((465181.0522318204 5080254.63349641, ...</td>\n",
       "    </tr>\n",
       "    <tr>\n",
       "      <th>52</th>\n",
       "      <td>2017-12-17 10:05:40</td>\n",
       "      <td>1.0</td>\n",
       "      <td>POLYGON ((465181.0522318204 5080254.63349641, ...</td>\n",
       "    </tr>\n",
       "    <tr>\n",
       "      <th>53</th>\n",
       "      <td>2017-12-22 10:04:15</td>\n",
       "      <td>1.0</td>\n",
       "      <td>POLYGON ((465320.9793229014 5079964.707490857,...</td>\n",
       "    </tr>\n",
       "    <tr>\n",
       "      <th>54</th>\n",
       "      <td>2017-12-22 10:04:15</td>\n",
       "      <td>1.0</td>\n",
       "      <td>POLYGON ((465730.7658039244 5080254.63349641, ...</td>\n",
       "    </tr>\n",
       "  </tbody>\n",
       "</table>\n",
       "</div>"
      ],
      "text/plain": [
       "             TIMESTAMP  VALUE  \\\n",
       "0  2015-07-31 10:00:09    1.0   \n",
       "1  2015-08-20 10:07:28    1.0   \n",
       "2  2015-09-19 10:05:43    1.0   \n",
       "3  2015-09-29 10:06:33    1.0   \n",
       "4  2015-12-08 10:04:09    1.0   \n",
       "5  2015-12-08 10:11:25    1.0   \n",
       "6  2016-02-06 10:02:03    1.0   \n",
       "7  2016-02-06 10:02:03    1.0   \n",
       "8  2016-02-06 10:02:03    1.0   \n",
       "9  2016-02-06 10:02:03    1.0   \n",
       "10 2016-03-17 10:06:59    1.0   \n",
       "11 2016-03-27 10:00:12    1.0   \n",
       "12 2016-04-26 10:01:28    1.0   \n",
       "13 2016-05-06 10:05:27    1.0   \n",
       "14 2016-05-16 10:06:47    1.0   \n",
       "15 2016-05-16 10:06:47    1.0   \n",
       "16 2016-05-16 10:06:47    1.0   \n",
       "17 2016-06-05 10:06:50    1.0   \n",
       "18 2016-06-05 10:06:50    1.0   \n",
       "19 2016-06-15 10:06:08    1.0   \n",
       "20 2016-06-25 10:06:17    1.0   \n",
       "21 2016-07-25 10:06:02    1.0   \n",
       "22 2016-08-24 10:06:07    1.0   \n",
       "23 2016-08-24 10:06:07    1.0   \n",
       "24 2016-08-24 10:06:07    1.0   \n",
       "25 2016-09-13 10:05:04    1.0   \n",
       "26 2016-10-23 10:00:47    1.0   \n",
       "27 2016-12-22 10:06:06    1.0   \n",
       "28 2017-02-20 10:06:35    1.0   \n",
       "29 2017-02-20 10:06:35    1.0   \n",
       "30 2017-02-20 10:06:35    1.0   \n",
       "31 2017-02-20 10:06:35    1.0   \n",
       "32 2017-03-02 10:00:20    1.0   \n",
       "33 2017-03-12 10:07:06    1.0   \n",
       "34 2017-04-11 10:00:25    1.0   \n",
       "35 2017-05-01 10:00:29    1.0   \n",
       "36 2017-05-31 10:05:36    1.0   \n",
       "37 2017-06-10 10:00:27    1.0   \n",
       "38 2017-07-15 10:00:26    1.0   \n",
       "39 2017-07-15 10:00:26    1.0   \n",
       "40 2017-07-15 10:00:26    1.0   \n",
       "41 2017-07-25 10:05:36    1.0   \n",
       "42 2017-07-30 10:05:35    1.0   \n",
       "43 2017-07-30 10:05:35    1.0   \n",
       "44 2017-08-09 10:00:28    1.0   \n",
       "45 2017-09-08 10:06:55    1.0   \n",
       "46 2017-09-18 10:00:23    1.0   \n",
       "47 2017-09-23 10:05:02    1.0   \n",
       "48 2017-09-23 10:05:02    1.0   \n",
       "49 2017-09-28 10:06:17    1.0   \n",
       "50 2017-11-12 10:02:29    1.0   \n",
       "51 2017-11-17 10:03:38    1.0   \n",
       "52 2017-12-17 10:05:40    1.0   \n",
       "53 2017-12-22 10:04:15    1.0   \n",
       "54 2017-12-22 10:04:15    1.0   \n",
       "\n",
       "                                             geometry  \n",
       "0   POLYGON ((465181.0522318204 5080254.63349641, ...  \n",
       "1   POLYGON ((465181.0522318204 5080254.63349641, ...  \n",
       "2   POLYGON ((465181.0522318204 5080254.63349641, ...  \n",
       "3   POLYGON ((465181.0522318204 5080254.63349641, ...  \n",
       "4   POLYGON ((465181.0522318204 5080254.63349641, ...  \n",
       "5   POLYGON ((465181.0522318204 5080254.63349641, ...  \n",
       "6   POLYGON ((465630.8178817236 5080064.68197553, ...  \n",
       "7   POLYGON ((465520.8751673028 5079654.786588368,...  \n",
       "8   POLYGON ((465990.6304016462 5079594.801897564,...  \n",
       "9   POLYGON ((465181.0522318204 5079444.840170554,...  \n",
       "10  POLYGON ((465181.0522318204 5080254.63349641, ...  \n",
       "11  POLYGON ((465181.0522318204 5080254.63349641, ...  \n",
       "12  POLYGON ((465181.0522318204 5080254.63349641, ...  \n",
       "13  POLYGON ((465890.6824794455 5080254.63349641, ...  \n",
       "14  POLYGON ((465890.6824794455 5080174.653908671,...  \n",
       "15  POLYGON ((465320.9793229014 5080064.68197553, ...  \n",
       "16  POLYGON ((465840.7085183451 5079704.773830705,...  \n",
       "17  POLYGON ((466040.6043627466 5080254.63349641, ...  \n",
       "18  POLYGON ((465211.0366084806 5080254.63349641, ...  \n",
       "19  POLYGON ((465211.0366084806 5080254.63349641, ...  \n",
       "20  POLYGON ((465181.0522318204 5080064.68197553, ...  \n",
       "21  POLYGON ((465181.0522318204 5080254.63349641, ...  \n",
       "22  POLYGON ((466100.573116067 5080254.63349641, 4...  \n",
       "23  POLYGON ((465181.0522318204 5080254.63349641, ...  \n",
       "24  POLYGON ((465780.7397650247 5079544.814655228,...  \n",
       "25  POLYGON ((465420.9272451021 5080254.63349641, ...  \n",
       "26  POLYGON ((465181.0522318204 5080254.63349641, ...  \n",
       "27  POLYGON ((465181.0522318204 5080254.63349641, ...  \n",
       "28  POLYGON ((465780.7397650247 5079964.707490857,...  \n",
       "29  POLYGON ((465181.0522318204 5079544.814655228,...  \n",
       "30  POLYGON ((465680.791842824 5079444.840170554, ...  \n",
       "31  POLYGON ((465520.8751673028 5079334.868237413,...  \n",
       "32  POLYGON ((465181.0522318204 5080254.63349641, ...  \n",
       "33  POLYGON ((465181.0522318204 5080254.63349641, ...  \n",
       "34  POLYGON ((465840.7085183451 5080254.63349641, ...  \n",
       "35  POLYGON ((465181.0522318204 5080254.63349641, ...  \n",
       "36  POLYGON ((465181.0522318204 5080254.63349641, ...  \n",
       "37  POLYGON ((465181.0522318204 5080254.63349641, ...  \n",
       "38  POLYGON ((466150.5470771674 5080174.653908671,...  \n",
       "39  POLYGON ((465580.8439206233 5080224.641151008,...  \n",
       "40  POLYGON ((466100.573116067 5079704.773830705, ...  \n",
       "41  POLYGON ((465680.791842824 5080254.63349641, 4...  \n",
       "42  POLYGON ((465181.0522318204 5080254.63349641, ...  \n",
       "43  POLYGON ((466040.6043627466 5080014.694733193,...  \n",
       "44  POLYGON ((465181.0522318204 5080254.63349641, ...  \n",
       "45  POLYGON ((465181.0522318204 5080254.63349641, ...  \n",
       "46  POLYGON ((465181.0522318204 5080254.63349641, ...  \n",
       "47  POLYGON ((465261.010569581 5080014.694733193, ...  \n",
       "48  POLYGON ((465580.8439206233 5080254.63349641, ...  \n",
       "49  POLYGON ((465370.9532840018 5079544.814655228,...  \n",
       "50  POLYGON ((465181.0522318204 5080254.63349641, ...  \n",
       "51  POLYGON ((465181.0522318204 5080254.63349641, ...  \n",
       "52  POLYGON ((465181.0522318204 5080254.63349641, ...  \n",
       "53  POLYGON ((465320.9793229014 5079964.707490857,...  \n",
       "54  POLYGON ((465730.7658039244 5080254.63349641, ...  "
      ]
     },
     "execution_count": 3,
     "metadata": {},
     "output_type": "execute_result"
    }
   ],
   "source": [
    "eopatch.vector['CLOUD_MASK_VECTOR']"
   ]
  },
  {
   "cell_type": "code",
   "execution_count": 4,
   "metadata": {},
   "outputs": [
    {
     "data": {
      "image/svg+xml": [
       "<svg xmlns=\"http://www.w3.org/2000/svg\" xmlns:xlink=\"http://www.w3.org/1999/xlink\" width=\"300\" height=\"300\" viewBox=\"465140.6625400123 5079204.501509398 1080.2586056234431 1090.5216788202524\" preserveAspectRatio=\"xMinYMin meet\"><g transform=\"matrix(1,0,0,-1,0,10159499.524697617)\"><path fill-rule=\"evenodd\" fill=\"#66cc99\" stroke=\"#555555\" stroke-width=\"7.27014452546835\" opacity=\"0.6\" d=\"M 465730.76580392435,5080254.63349641 L 465730.76580392435,5080224.641151008 L 465780.7397650247,5080224.641151008 L 465780.7397650247,5080114.669217867 L 465770.7449728046,5080114.669217867 L 465730.76580392435,5080114.669217867 L 465730.76580392435,5079854.735557715 L 465720.7710117043,5079854.735557715 L 465630.81788172363,5079854.735557715 L 465630.81788172363,5079804.748315379 L 465620.82308950357,5079804.748315379 L 465580.8439206233,5079804.748315379 L 465580.8439206233,5079754.761073042 L 465570.84912840324,5079754.761073042 L 465520.87516730285,5079754.761073042 L 465520.87516730285,5079654.786588368 L 465580.8439206233,5079654.786588368 L 465580.8439206233,5079444.840170554 L 465570.84912840324,5079444.840170554 L 465520.87516730285,5079444.840170554 L 465520.87516730285,5079284.880995076 L 465470.9012062025,5079284.880995076 L 465470.9012062025,5079334.868237413 L 465420.9272451021,5079334.868237413 L 465420.9272451021,5079394.852928217 L 465370.9532840018,5079394.852928217 L 465370.9532840018,5079444.840170554 L 465320.9793229014,5079444.840170554 L 465320.9793229014,5079494.82741289 L 465181.0522318204,5079494.82741289 L 465181.0522318204,5079244.8912012065 L 466170.5366616075,5079244.8912012065 L 466180.53145382757,5079244.8912012065 L 466180.53145382757,5080254.63349641 L 465990.6304016462,5080254.63349641 L 465990.6304016462,5080224.641151008 L 465940.65644054586,5080224.641151008 L 465940.65644054586,5080254.63349641 L 465730.76580392435,5080254.63349641 z\" /></g></svg>"
      ],
      "text/plain": [
       "<shapely.geometry.polygon.Polygon at 0x1d6690b0bc8>"
      ]
     },
     "execution_count": 4,
     "metadata": {},
     "output_type": "execute_result"
    }
   ],
   "source": [
    "# Note: The individual polygons can be easily visualised by specifying the time index.\n",
    "eopatch.vector['CLOUD_MASK_VECTOR']['geometry'][54]"
   ]
  },
  {
   "cell_type": "markdown",
   "metadata": {},
   "source": [
    "Bounding box and timestamps:"
   ]
  },
  {
   "cell_type": "code",
   "execution_count": 5,
   "metadata": {},
   "outputs": [
    {
     "name": "stdout",
     "output_type": "stream",
     "text": [
      "2015-07-11 10:00:08 -- 2017-12-22 10:04:15, #timestamps=68\n",
      "BBox(((465181.0522318204, 5079244.8912012065), (466180.53145382757, 5080254.63349641)), crs=CRS('32633'))\n"
     ]
    },
    {
     "data": {
      "image/svg+xml": [
       "<svg xmlns=\"http://www.w3.org/2000/svg\" xmlns:xlink=\"http://www.w3.org/1999/xlink\" width=\"300\" height=\"300\" viewBox=\"465140.6625400123 5079204.501509398 1080.2586056234431 1090.5216788202524\" preserveAspectRatio=\"xMinYMin meet\"><g transform=\"matrix(1,0,0,-1,0,10159499.524697617)\"><path fill-rule=\"evenodd\" fill=\"#66cc99\" stroke=\"#555555\" stroke-width=\"7.27014452546835\" opacity=\"0.6\" d=\"M 465181.0522318204,5079244.8912012065 L 465181.0522318204,5080254.63349641 L 466180.53145382757,5080254.63349641 L 466180.53145382757,5079244.8912012065 L 465181.0522318204,5079244.8912012065 z\" /></g></svg>"
      ],
      "text/plain": [
       "BBox(((465181.0522318204, 5079244.8912012065), (466180.53145382757, 5080254.63349641)), crs=CRS('32633'))"
      ]
     },
     "execution_count": 5,
     "metadata": {},
     "output_type": "execute_result"
    }
   ],
   "source": [
    "print('%s -- %s, #timestamps=%d' % (eopatch.timestamp[0], eopatch.timestamp[-1], len(eopatch.timestamp)))\n",
    "print(repr(eopatch.bbox))\n",
    "\n",
    "eopatch.bbox"
   ]
  },
  {
   "cell_type": "markdown",
   "metadata": {},
   "source": [
    "Let's create a new `EOPatch` and store some features inside:"
   ]
  },
  {
   "cell_type": "code",
   "execution_count": 6,
   "metadata": {},
   "outputs": [
    {
     "data": {
      "text/plain": [
       "EOPatch(\n",
       "  data: {\n",
       "    BANDS: numpy.ndarray(shape=(68, 101, 100, 13), dtype=float32)\n",
       "  }\n",
       "  mask: {}\n",
       "  scalar: {}\n",
       "  label: {}\n",
       "  vector: {}\n",
       "  data_timeless: {}\n",
       "  mask_timeless: {\n",
       "    NEW_MASK: numpy.ndarray(shape=(10, 10, 13), dtype=uint8)\n",
       "  }\n",
       "  scalar_timeless: {}\n",
       "  label_timeless: {}\n",
       "  vector_timeless: {}\n",
       "  meta_info: {}\n",
       "  bbox: None\n",
       "  timestamp: []\n",
       ")"
      ]
     },
     "execution_count": 6,
     "metadata": {},
     "output_type": "execute_result"
    }
   ],
   "source": [
    "import numpy as np\n",
    "\n",
    "my_eopatch = EOPatch()\n",
    "\n",
    "my_eopatch.data['BANDS'] = eopatch.data['BANDS-S2-L1C']\n",
    "\n",
    "my_eopatch.mask_timeless['NEW_MASK'] = np.zeros((10, 10, 13), dtype=np.uint8)\n",
    "\n",
    "my_eopatch"
   ]
  },
  {
   "cell_type": "code",
   "execution_count": null,
   "metadata": {},
   "outputs": [],
   "source": [
    "# Note: There are restrictions to what kind of data can be stored per each feature type.\n",
    "#       You can check that the following wouldn't work:\n",
    "#           - Storing timeless data among time-dependent features\n",
    "#           - Storing time-dependent data among timeless features\n",
    "#           - Storing raster data among vector features\n",
    "#           - etc."
   ]
  },
  {
   "cell_type": "markdown",
   "metadata": {},
   "source": [
    "Features can be easily dereferenced:"
   ]
  },
  {
   "cell_type": "code",
   "execution_count": 7,
   "metadata": {},
   "outputs": [
    {
     "data": {
      "text/plain": [
       "EOPatch(\n",
       "  data: {}\n",
       "  mask: {}\n",
       "  scalar: {}\n",
       "  label: {}\n",
       "  vector: {}\n",
       "  data_timeless: {}\n",
       "  mask_timeless: {\n",
       "    NEW_MASK: numpy.ndarray(shape=(10, 10, 13), dtype=uint8)\n",
       "  }\n",
       "  scalar_timeless: {}\n",
       "  label_timeless: {}\n",
       "  vector_timeless: {}\n",
       "  meta_info: {}\n",
       "  bbox: None\n",
       "  timestamp: []\n",
       ")"
      ]
     },
     "execution_count": 7,
     "metadata": {},
     "output_type": "execute_result"
    }
   ],
   "source": [
    "del my_eopatch.data['BANDS']\n",
    "\n",
    "my_eopatch"
   ]
  },
  {
   "cell_type": "markdown",
   "metadata": {},
   "source": [
    "We can save our new `EOPatch` in a local directory. In case an `EOPatch` already exists in the specified location, we may also want to permit it to be overwritten."
   ]
  },
  {
   "cell_type": "code",
   "execution_count": 9,
   "metadata": {},
   "outputs": [],
   "source": [
    "from eolearn.core import OverwritePermission\n",
    "\n",
    "MY_PATCH_NAME = 'my_eopatch'\n",
    "\n",
    "my_eopatch.save(\n",
    "    os.path.join(DATA_FOLDER, MY_PATCH_NAME),\n",
    "    overwrite_permission=OverwritePermission.OVERWRITE_PATCH\n",
    ")"
   ]
  },
  {
   "cell_type": "code",
   "execution_count": null,
   "metadata": {},
   "outputs": [],
   "source": [
    "# Note: The other types of permissions are \"ADD_ONLY\" and \"OVERWRITE_FEATURES\".\n",
    "#       The latter should be used in conjuction with the \"features\" keyword argument,\n",
    "#       e.g. \"features=[(FeatureType.DATA, 'BANDS')]\"."
   ]
  },
  {
   "cell_type": "markdown",
   "metadata": {},
   "source": [
    "### 1.1 Visualisation\n",
    "\n",
    "There are some legacy `EOPatch` plotting methods that will only work if `eo-learn-visualization` had been installed in full..."
   ]
  },
  {
   "cell_type": "code",
   "execution_count": null,
   "metadata": {},
   "outputs": [],
   "source": [
    "eopatch.plot((FeatureType.DATA, 'BANDS-S2-L1C'))"
   ]
  },
  {
   "cell_type": "markdown",
   "metadata": {},
   "source": [
    "...but you can always resort to simply using `matplotlib`:"
   ]
  },
  {
   "cell_type": "code",
   "execution_count": 11,
   "metadata": {},
   "outputs": [
    {
     "data": {
      "image/png": "[encoded data removed]",
      "text/plain": [
       "<Figure size 576x576 with 1 Axes>"
      ]
     },
     "metadata": {
      "needs_background": "light"
     },
     "output_type": "display_data"
    }
   ],
   "source": [
    "import matplotlib.pyplot as plt\n",
    "%matplotlib inline\n",
    "\n",
    "plt.figure(figsize=(8,8))\n",
    "\n",
    "# Sometimes, the images can be a bit too dark to see clearly, hence the brightness factor\n",
    "t_idx = 1\n",
    "brightness_factor = 3.5\n",
    "\n",
    "plt.imshow(eopatch.data['BANDS-S2-L1C'][t_idx][..., [4,3,2]] * brightness_factor);"
   ]
  },
  {
   "cell_type": "code",
   "execution_count": null,
   "metadata": {},
   "outputs": [],
   "source": [
    "# Note: [4,3,2] specifies the red, green, and blue bands, respectively.\n",
    "#       You can try setting the RGB channels to some other band combination (false-colour)."
   ]
  },
  {
   "cell_type": "markdown",
   "metadata": {},
   "source": [
    "## 2. EOTask\n",
    "\n",
    "Following `EOPatch` is the `EOTask`, which represents a single well-defined operation on one or more `EOPatch` instances.\n",
    "\n",
    "We can create a new `EOTask` by inheriting from the abstract `EOTask` class:\n",
    "\n",
    "```Python\n",
    "class SomeTask(EOTask):\n",
    "    \"\"\"Does something to an EOPatch.\"\"\"\n",
    "    \n",
    "    def __init__(self, *task_specific_params):\n",
    "        self.task_specific_params = task_specific_params\n",
    "        \n",
    "    def execute(self, eopatch, *eopatches, **patch_specific_params):\n",
    "        \"\"\"Performs the task on the given EOPatch and returns it.\"\"\"\n",
    "    \n",
    "        return eopatch\n",
    "```\n",
    "\n",
    "The tasks that we create must implement the `execute` method, which needs to conform to the following:\n",
    "- The positional arguments should be instances of `EOPatch`.\n",
    "- Everything else should be specified in the form of keyword arguments.\n",
    "- Its output should be a single `EOPatch` instance.\n",
    "\n",
    "Each task can thus be viewed as having up to multiple inputs and a single output. This is important when constructing chains of tasks with more complex interactions between them."
   ]
  },
  {
   "cell_type": "code",
   "execution_count": null,
   "metadata": {},
   "outputs": [],
   "source": [
    "# Note: Why can't multiple eopatches be returned as well?"
   ]
  },
  {
   "cell_type": "markdown",
   "metadata": {},
   "source": [
    "An example of a task that adds a new feature to an `EOPatch`..."
   ]
  },
  {
   "cell_type": "code",
   "execution_count": 12,
   "metadata": {},
   "outputs": [],
   "source": [
    "from eolearn.core import EOTask\n",
    "\n",
    "class AddFeature(EOTask):\n",
    "    \"\"\"Adds a feature to an EOPatch.\"\"\"\n",
    "    \n",
    "    def __init__(self, feature):\n",
    "        self.feature = feature\n",
    "\n",
    "    def execute(self, eopatch, *, data):\n",
    "        \"\"\"Returns the EOPatch with added features.\"\"\"\n",
    "        \n",
    "        eopatch[self.feature] = data\n",
    "\n",
    "        return eopatch"
   ]
  },
  {
   "cell_type": "markdown",
   "metadata": {},
   "source": [
    "...which would be used like so:"
   ]
  },
  {
   "cell_type": "code",
   "execution_count": 13,
   "metadata": {},
   "outputs": [
    {
     "data": {
      "text/plain": [
       "EOPatch(\n",
       "  data: {\n",
       "    NEW_BANDS: numpy.ndarray(shape=(7, 64, 64, 13), dtype=float64)\n",
       "  }\n",
       "  mask: {}\n",
       "  scalar: {}\n",
       "  label: {}\n",
       "  vector: {}\n",
       "  data_timeless: {}\n",
       "  mask_timeless: {}\n",
       "  scalar_timeless: {}\n",
       "  label_timeless: {}\n",
       "  vector_timeless: {}\n",
       "  meta_info: {}\n",
       "  bbox: None\n",
       "  timestamp: []\n",
       ")"
      ]
     },
     "execution_count": 13,
     "metadata": {},
     "output_type": "execute_result"
    }
   ],
   "source": [
    "eopatch = EOPatch()\n",
    "\n",
    "add_feature_task = AddFeature((FeatureType.DATA, 'NEW_BANDS'))\n",
    "\n",
    "data = np.zeros((7, 64, 64, 13))\n",
    "\n",
    "eopatch = add_feature_task.execute(eopatch, data=data)\n",
    "# or simply\n",
    "# eopatch = add_feature_task(eopatch, data=data)\n",
    "\n",
    "eopatch"
   ]
  },
  {
   "cell_type": "code",
   "execution_count": null,
   "metadata": {},
   "outputs": [],
   "source": [
    "# Note: Try using a custom EOTask to rename \"NEW_BANDS\" to something else.\n",
    "#       Bonus points if you use both it and \"AddFeature\" as well (to 'get you thinking with tasks')."
   ]
  },
  {
   "cell_type": "markdown",
   "metadata": {},
   "source": [
    "Various `EOTasks` represent a large part of `eo-learn`. The list of all integrated tasks is available [here](https://eo-learn.readthedocs.io/en/latest/eotasks.html)."
   ]
  },
  {
   "cell_type": "markdown",
   "metadata": {},
   "source": [
    "## 3. EOWorkflow\n",
    "\n",
    "`EOTask` instances can be connected into acyclic processing graphs through the `EOWorkflow`.\n",
    "\n",
    "To get a clear picture of how it works, we will break one of our rules from before by running an example with integers instead of `EOPatch` instances."
   ]
  },
  {
   "cell_type": "code",
   "execution_count": 14,
   "metadata": {},
   "outputs": [],
   "source": [
    "from eolearn.core import EOWorkflow\n",
    "\n",
    "class FakeTask(EOTask):\n",
    "    def __init__(self, id_val):\n",
    "        self.id = id_val\n",
    "        \n",
    "    def execute(self, *eopatches, **kwargs):\n",
    "        print(eopatches, kwargs, self.id)\n",
    "        \n",
    "        return self.id\n",
    "\n",
    "ft1 = FakeTask(1)\n",
    "ft2 = FakeTask(2)"
   ]
  },
  {
   "cell_type": "code",
   "execution_count": 15,
   "metadata": {},
   "outputs": [
    {
     "data": {
      "image/svg+xml": [
       "<?xml version=\"1.0\" encoding=\"UTF-8\" standalone=\"no\"?>\r\n",
       "<!DOCTYPE svg PUBLIC \"-//W3C//DTD SVG 1.1//EN\"\r\n",
       " \"http://www.w3.org/Graphics/SVG/1.1/DTD/svg11.dtd\">\r\n",
       "<!-- Generated by graphviz version 2.38.0 (20140413.2041)\r\n",
       " -->\r\n",
       "<!-- Title: %3 Pages: 1 -->\r\n",
       "<svg width=\"314pt\" height=\"44pt\"\r\n",
       " viewBox=\"0.00 0.00 314.38 44.00\" xmlns=\"http://www.w3.org/2000/svg\" xmlns:xlink=\"http://www.w3.org/1999/xlink\">\r\n",
       "<g id=\"graph0\" class=\"graph\" transform=\"scale(1 1) rotate(0) translate(4 40)\">\r\n",
       "<title>%3</title>\r\n",
       "<polygon fill=\"white\" stroke=\"none\" points=\"-4,4 -4,-40 310.376,-40 310.376,4 -4,4\"/>\r\n",
       "<!-- Run fake task 1 -->\r\n",
       "<g id=\"node1\" class=\"node\"><title>Run fake task 1</title>\r\n",
       "<ellipse fill=\"none\" stroke=\"black\" cx=\"67.594\" cy=\"-18\" rx=\"67.6881\" ry=\"18\"/>\r\n",
       "<text text-anchor=\"middle\" x=\"67.594\" y=\"-14.3\" font-family=\"Times New Roman,serif\" font-size=\"14.00\">Run fake task 1</text>\r\n",
       "</g>\r\n",
       "<!-- Run fake task 2 -->\r\n",
       "<g id=\"node2\" class=\"node\"><title>Run fake task 2</title>\r\n",
       "<ellipse fill=\"none\" stroke=\"black\" cx=\"238.782\" cy=\"-18\" rx=\"67.6881\" ry=\"18\"/>\r\n",
       "<text text-anchor=\"middle\" x=\"238.782\" y=\"-14.3\" font-family=\"Times New Roman,serif\" font-size=\"14.00\">Run fake task 2</text>\r\n",
       "</g>\r\n",
       "<!-- Run fake task 1&#45;&gt;Run fake task 2 -->\r\n",
       "<g id=\"edge1\" class=\"edge\"><title>Run fake task 1&#45;&gt;Run fake task 2</title>\r\n",
       "<path fill=\"none\" stroke=\"black\" d=\"M130.633,-11.4679C142.012,-11.2432 153.978,-11.1923 165.623,-11.3152\"/>\r\n",
       "<polygon fill=\"black\" stroke=\"black\" points=\"165.699,-14.8167 175.751,-11.4681 165.805,-7.81749 165.699,-14.8167\"/>\r\n",
       "</g>\r\n",
       "<!-- Run fake task 1&#45;&gt;Run fake task 2 -->\r\n",
       "<g id=\"edge2\" class=\"edge\"><title>Run fake task 1&#45;&gt;Run fake task 2</title>\r\n",
       "<path fill=\"none\" stroke=\"black\" d=\"M130.633,-24.5321C142.012,-24.7568 153.978,-24.8077 165.623,-24.6848\"/>\r\n",
       "<polygon fill=\"black\" stroke=\"black\" points=\"165.805,-28.1825 175.751,-24.5319 165.699,-21.1833 165.805,-28.1825\"/>\r\n",
       "</g>\r\n",
       "</g>\r\n",
       "</svg>\r\n"
      ],
      "text/plain": [
       "<graphviz.dot.Digraph at 0x1d672a3ba48>"
      ]
     },
     "execution_count": 15,
     "metadata": {},
     "output_type": "execute_result"
    }
   ],
   "source": [
    "# Define the graph by specify dependencies (and descriptions)\n",
    "workflow = EOWorkflow([\n",
    "    (ft1, [], 'Run fake task 1'),\n",
    "    (ft2, [ft1, ft1], 'Run fake task 2')\n",
    "])\n",
    "\n",
    "# Visualise the graph\n",
    "workflow.dependency_graph()"
   ]
  },
  {
   "cell_type": "code",
   "execution_count": 16,
   "metadata": {},
   "outputs": [
    {
     "name": "stdout",
     "output_type": "stream",
     "text": [
      "() {} 1\n",
      "(1, 1) {'a': 0, 'b': 0} 2\n"
     ]
    },
    {
     "data": {
      "text/plain": [
       "WorkflowResults(\n",
       "  Dependency(Run fake task 2):\n",
       "    2\n",
       ")"
      ]
     },
     "execution_count": 16,
     "metadata": {},
     "output_type": "execute_result"
    }
   ],
   "source": [
    "# Execute the workflow, specifying patch-specific arguments for each task\n",
    "result = workflow.execute({\n",
    "    ft1: {},\n",
    "    ft2: {'a': 0, 'b': 0}\n",
    "})\n",
    "\n",
    "# Shows the final output(s)\n",
    "result"
   ]
  },
  {
   "cell_type": "code",
   "execution_count": null,
   "metadata": {},
   "outputs": [],
   "source": [
    "# Note: Data is put into the workflow either by specifying arguments or through the tasks themselves,\n",
    "#       e.g. by using a task to load the data."
   ]
  },
  {
   "cell_type": "code",
   "execution_count": null,
   "metadata": {},
   "outputs": [],
   "source": [
    "# Note: EOWorkflow cannot form acyclic graphs and cannot execute the same tasks multiple times."
   ]
  },
  {
   "cell_type": "code",
   "execution_count": null,
   "metadata": {},
   "outputs": [],
   "source": [
    "# Note: Tasks can be run in parallel, as long as they don't share any dependencies."
   ]
  },
  {
   "cell_type": "markdown",
   "metadata": {},
   "source": [
    "Here is a simple example of an actual `EOWorkflow`:"
   ]
  },
  {
   "cell_type": "code",
   "execution_count": 17,
   "metadata": {},
   "outputs": [
    {
     "name": "stderr",
     "output_type": "stream",
     "text": [
      "C:\\Users\\jerne\\Anaconda3\\envs\\eow\\lib\\site-packages\\eolearn\\core\\core_tasks.py:166: DeprecationWarning: This task is deprecated, use LoadTask instead\n",
      "  warnings.warn('This task is deprecated, use LoadTask instead', DeprecationWarning)\n",
      "C:\\Users\\jerne\\Anaconda3\\envs\\eow\\lib\\site-packages\\eolearn\\core\\core_tasks.py:127: DeprecationWarning: This task is deprecated, use SaveTask instead\n",
      "  warnings.warn('This task is deprecated, use SaveTask instead', DeprecationWarning)\n"
     ]
    },
    {
     "data": {
      "text/plain": [
       "WorkflowResults(\n",
       "  Dependency(Save EOPatch):\n",
       "    EOPatch(\n",
       "      data: {}\n",
       "      mask: {}\n",
       "      scalar: {}\n",
       "      label: {\n",
       "        NEW_LABEL: numpy.ndarray(shape=(10, 3), dtype=uint8)\n",
       "      }\n",
       "      vector: {}\n",
       "      data_timeless: {}\n",
       "      mask_timeless: {\n",
       "        NEW_MASK: numpy.ndarray(shape=(10, 10, 13), dtype=uint8)\n",
       "      }\n",
       "      scalar_timeless: {}\n",
       "      label_timeless: {}\n",
       "      vector_timeless: {}\n",
       "      meta_info: {}\n",
       "      bbox: None\n",
       "      timestamp: []\n",
       "    )\n",
       ")"
      ]
     },
     "execution_count": 17,
     "metadata": {},
     "output_type": "execute_result"
    }
   ],
   "source": [
    "from eolearn.core import LoadTask, SaveTask\n",
    "\n",
    "new_feature = (FeatureType.LABEL, 'NEW_LABEL')\n",
    "\n",
    "load_task = LoadTask(folder=DATA_FOLDER)\n",
    "\n",
    "add_feature_task = AddFeature(new_feature)\n",
    "\n",
    "save_task = SaveTask(\n",
    "    folder=DATA_FOLDER,\n",
    "    features=[new_feature],\n",
    "    overwrite_permission=OverwritePermission.OVERWRITE_FEATURES\n",
    ")\n",
    "\n",
    "# Define the graph\n",
    "workflow = EOWorkflow([\n",
    "    (load_task, [], 'Load EOPatch'),\n",
    "    (add_feature_task, [load_task], 'Add a new feature'),\n",
    "    (save_task, [add_feature_task], 'Save EOPatch')\n",
    "])\n",
    "\n",
    "# Execute the workflow\n",
    "result = workflow.execute({\n",
    "    load_task: {\n",
    "        'eopatch_folder': MY_PATCH_NAME\n",
    "    },\n",
    "    add_feature_task: {\n",
    "        'data': np.zeros((10, 3), dtype=np.uint8)\n",
    "    },\n",
    "    save_task: {\n",
    "        'eopatch_folder': MY_PATCH_NAME\n",
    "    }\n",
    "})\n",
    "\n",
    "result"
   ]
  },
  {
   "cell_type": "markdown",
   "metadata": {},
   "source": [
    "The above workflow is purposefully simple, but many workflows are linear in practice as well. In such cases, the convenient `LinearWorkflow` removes the need to specify dependencies between the tasks:"
   ]
  },
  {
   "cell_type": "code",
   "execution_count": 18,
   "metadata": {},
   "outputs": [
    {
     "data": {
      "image/svg+xml": [
       "<?xml version=\"1.0\" encoding=\"UTF-8\" standalone=\"no\"?>\r\n",
       "<!DOCTYPE svg PUBLIC \"-//W3C//DTD SVG 1.1//EN\"\r\n",
       " \"http://www.w3.org/Graphics/SVG/1.1/DTD/svg11.dtd\">\r\n",
       "<!-- Generated by graphviz version 2.38.0 (20140413.2041)\r\n",
       " -->\r\n",
       "<!-- Title: %3 Pages: 1 -->\r\n",
       "<svg width=\"432pt\" height=\"44pt\"\r\n",
       " viewBox=\"0.00 0.00 432.27 44.00\" xmlns=\"http://www.w3.org/2000/svg\" xmlns:xlink=\"http://www.w3.org/1999/xlink\">\r\n",
       "<g id=\"graph0\" class=\"graph\" transform=\"scale(1 1) rotate(0) translate(4 40)\">\r\n",
       "<title>%3</title>\r\n",
       "<polygon fill=\"white\" stroke=\"none\" points=\"-4,4 -4,-40 428.269,-40 428.269,4 -4,4\"/>\r\n",
       "<!-- LoadFromDisk -->\r\n",
       "<g id=\"node1\" class=\"node\"><title>LoadFromDisk</title>\r\n",
       "<ellipse fill=\"none\" stroke=\"black\" cx=\"66.2941\" cy=\"-18\" rx=\"66.0889\" ry=\"18\"/>\r\n",
       "<text text-anchor=\"middle\" x=\"66.2941\" y=\"-14.3\" font-family=\"Times New Roman,serif\" font-size=\"14.00\">LoadFromDisk</text>\r\n",
       "</g>\r\n",
       "<!-- AddFeature -->\r\n",
       "<g id=\"node2\" class=\"node\"><title>AddFeature</title>\r\n",
       "<ellipse fill=\"none\" stroke=\"black\" cx=\"222.533\" cy=\"-18\" rx=\"53.8905\" ry=\"18\"/>\r\n",
       "<text text-anchor=\"middle\" x=\"222.533\" y=\"-14.3\" font-family=\"Times New Roman,serif\" font-size=\"14.00\">AddFeature</text>\r\n",
       "</g>\r\n",
       "<!-- LoadFromDisk&#45;&gt;AddFeature -->\r\n",
       "<g id=\"edge1\" class=\"edge\"><title>LoadFromDisk&#45;&gt;AddFeature</title>\r\n",
       "<path fill=\"none\" stroke=\"black\" d=\"M132.705,-18C141.111,-18 149.707,-18 158.08,-18\"/>\r\n",
       "<polygon fill=\"black\" stroke=\"black\" points=\"158.156,-21.5001 168.156,-18 158.156,-14.5001 158.156,-21.5001\"/>\r\n",
       "</g>\r\n",
       "<!-- SaveToDisk -->\r\n",
       "<g id=\"node3\" class=\"node\"><title>SaveToDisk</title>\r\n",
       "<ellipse fill=\"none\" stroke=\"black\" cx=\"368.374\" cy=\"-18\" rx=\"55.7903\" ry=\"18\"/>\r\n",
       "<text text-anchor=\"middle\" x=\"368.374\" y=\"-14.3\" font-family=\"Times New Roman,serif\" font-size=\"14.00\">SaveToDisk</text>\r\n",
       "</g>\r\n",
       "<!-- AddFeature&#45;&gt;SaveToDisk -->\r\n",
       "<g id=\"edge2\" class=\"edge\"><title>AddFeature&#45;&gt;SaveToDisk</title>\r\n",
       "<path fill=\"none\" stroke=\"black\" d=\"M276.686,-18C284.879,-18 293.421,-18 301.845,-18\"/>\r\n",
       "<polygon fill=\"black\" stroke=\"black\" points=\"302.031,-21.5001 312.031,-18 302.031,-14.5001 302.031,-21.5001\"/>\r\n",
       "</g>\r\n",
       "</g>\r\n",
       "</svg>\r\n"
      ],
      "text/plain": [
       "<graphviz.dot.Digraph at 0x1d6728b5e48>"
      ]
     },
     "execution_count": 18,
     "metadata": {},
     "output_type": "execute_result"
    }
   ],
   "source": [
    "from eolearn.core import LinearWorkflow\n",
    "\n",
    "workflow = LinearWorkflow(\n",
    "    load_task,\n",
    "    add_feature_task,\n",
    "    save_task\n",
    ")\n",
    "\n",
    "workflow.dependency_graph()"
   ]
  },
  {
   "cell_type": "markdown",
   "metadata": {},
   "source": [
    "## 4. EOExecutor\n",
    "\n",
    "`EOExecutor` handles the execution of workflows more elaborately. It enables workflows to be executed multiple times or in parallel, it monitors execution times, and handles errors that might occur in the process.\n",
    "\n",
    "Executing the previously defined workflow with different arguments:"
   ]
  },
  {
   "cell_type": "code",
   "execution_count": 19,
   "metadata": {},
   "outputs": [
    {
     "data": {
      "application/vnd.jupyter.widget-view+json": {
       "model_id": "c2426c9499f340e79c1ea65bdbd22afc",
       "version_major": 2,
       "version_minor": 0
      },
      "text/plain": [
       "HBox(children=(FloatProgress(value=0.0, max=3.0), HTML(value='')))"
      ]
     },
     "metadata": {},
     "output_type": "display_data"
    },
    {
     "name": "stdout",
     "output_type": "stream",
     "text": [
      "\n"
     ]
    }
   ],
   "source": [
    "from eolearn.core import EOExecutor\n",
    "\n",
    "# The workflow will be executed for each of these 3 dictionaries\n",
    "execution_args = [\n",
    "    {\n",
    "        load_task: {\n",
    "            'eopatch_folder': MY_PATCH_NAME\n",
    "        },\n",
    "        add_feature_task: {\n",
    "            'data': idx * np.ones((10, 3), dtype=np.uint8)\n",
    "        },\n",
    "        save_task: {\n",
    "            'eopatch_folder': MY_PATCH_NAME + '_v%d' % idx}\n",
    "    } for idx in range(3)\n",
    "]\n",
    "\n",
    "LOGS_FOLDER = os.path.join(DATA_FOLDER, 'logs')\n",
    "\n",
    "if not os.path.exists(LOGS_FOLDER):\n",
    "    os.makedirs(LOGS_FOLDER)\n",
    "\n",
    "executor = EOExecutor(workflow, execution_args, save_logs=True, logs_folder=LOGS_FOLDER)\n",
    "\n",
    "# The number of workers is analogous to the number of parallel processes\n",
    "# The \"multiprocess\" keyword switches between threading vs multiprocessing modes of parallelism\n",
    "executor.run(workers=3, multiprocess=False)"
   ]
  },
  {
   "cell_type": "markdown",
   "metadata": {},
   "source": [
    "Finally, it can also compile the logs and produce a report containing the summary of the workflow's execution process that is viewable in the browser (particularly useful for debugging):"
   ]
  },
  {
   "cell_type": "code",
   "execution_count": 20,
   "metadata": {},
   "outputs": [
    {
     "name": "stdout",
     "output_type": "stream",
     "text": [
      "Report saved to: data\\logs\\eoexecution-report-2020_04_24-03_21_40\\report.html\n"
     ]
    }
   ],
   "source": [
    "executor.make_report()\n",
    "\n",
    "print('Report saved to: %s' % executor.get_report_filename())"
   ]
  },
  {
   "cell_type": "markdown",
   "metadata": {},
   "source": [
    "These basic components should be well known, but the rest of `eo-learn` can be discovered on a case by case basis."
   ]
  },
  {
   "cell_type": "code",
   "execution_count": null,
   "metadata": {},
   "outputs": [],
   "source": []
  }
 ],
 "metadata": {
  "kernelspec": {
   "display_name": "Python 3",
   "language": "python",
   "name": "python3"
  },
  "language_info": {
   "codemirror_mode": {
    "name": "ipython",
    "version": 3
   },
   "file_extension": ".py",
   "mimetype": "text/x-python",
   "name": "python",
   "nbconvert_exporter": "python",
   "pygments_lexer": "ipython3",
   "version": "3.7.6"
  }
 },
 "nbformat": 4,
 "nbformat_minor": 2
}
